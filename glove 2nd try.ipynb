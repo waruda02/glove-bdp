{
 "cells": [
  {
   "cell_type": "code",
   "execution_count": 6,
   "metadata": {},
   "outputs": [
    {
     "name": "stderr",
     "output_type": "stream",
     "text": [
      "[nltk_data] Downloading package punkt to\n",
      "[nltk_data]     C:\\Users\\djket\\AppData\\Roaming\\nltk_data...\n",
      "[nltk_data]   Unzipping tokenizers\\punkt.zip.\n"
     ]
    }
   ],
   "source": [
    "from nltk.tokenize import word_tokenize\n",
    "nltk.download('punkt')\n",
    "from torch.autograd import Variable\n",
    "import matplotlib\n",
    "matplotlib.use('Agg')\n",
    "import matplotlib.pyplot as plt\n",
    "import numpy as np\n",
    "import torch\n",
    "import torch.optim as optim"
   ]
  },
  {
   "cell_type": "code",
   "execution_count": 7,
   "metadata": {},
   "outputs": [],
   "source": [
    "# Set parameters\n",
    "context_size = 3\n",
    "embed_size = 2\n",
    "xmax = 2\n",
    "alpha = 0.75\n",
    "batch_size = 20\n",
    "l_rate = 0.001\n",
    "num_epochs = 10"
   ]
  },
  {
   "cell_type": "code",
   "execution_count": 8,
   "metadata": {},
   "outputs": [],
   "source": [
    "# Open and read in text\n",
    "text_file = open('short_story.txt', 'r')\n",
    "text = text_file.read().lower()\n",
    "text_file.close()"
   ]
  },
  {
   "cell_type": "code",
   "execution_count": 9,
   "metadata": {},
   "outputs": [],
   "source": [
    "# Create vocabulary and word lists\n",
    "word_list = word_tokenize(text)\n",
    "vocab = np.unique(word_list)\n",
    "w_list_size = len(word_list)\n",
    "vocab_size = len(vocab)"
   ]
  },
  {
   "cell_type": "code",
   "execution_count": 10,
   "metadata": {},
   "outputs": [],
   "source": [
    "# Create word to index mapping\n",
    "w_to_i = {word: ind for ind, word in enumerate(vocab)}\n",
    "\n",
    "# Construct co-occurence matrix\n",
    "comat = np.zeros((vocab_size, vocab_size))\n",
    "for i in range(w_list_size):\n",
    "    for j in range(1, context_size+1):\n",
    "        ind = w_to_i[word_list[i]]\n",
    "        if i-j > 0:\n",
    "            lind = w_to_i[word_list[i-j]]\n",
    "            comat[ind, lind] += 1.0/j\n",
    "        if i+j < w_list_size:\n",
    "            rind = w_to_i[word_list[i+j]]\n",
    "            comat[ind, rind] += 1.0/j\n",
    "\n",
    "# Non-zero co-occurrences\n",
    "coocs = np.transpose(np.nonzero(comat))"
   ]
  },
  {
   "cell_type": "code",
   "execution_count": 11,
   "metadata": {},
   "outputs": [],
   "source": [
    "# Weight function\n",
    "def wf(x):\n",
    "    if x < xmax:\n",
    "        return (x/xmax)**alpha\n",
    "    return 1\n",
    "\n",
    "# Set up word vectors and biases\n",
    "l_embed, r_embed = [\n",
    "    [Variable(torch.from_numpy(np.random.normal(0, 0.01, (embed_size, 1))),\n",
    "        requires_grad = True) for j in range(vocab_size)] for i in range(2)]\n",
    "l_biases, r_biases = [\n",
    "    [Variable(torch.from_numpy(np.random.normal(0, 0.01, 1)), \n",
    "        requires_grad = True) for j in range(vocab_size)] for i in range(2)]\n",
    "\n",
    "# Set up optimizer\n",
    "optimizer = optim.Adam(l_embed + r_embed + l_biases + r_biases, lr = l_rate)"
   ]
  },
  {
   "cell_type": "code",
   "execution_count": 12,
   "metadata": {},
   "outputs": [],
   "source": [
    "# Batch sampling function\n",
    "def gen_batch():\t\n",
    "    sample = np.random.choice(np.arange(len(coocs)), size=batch_size, replace=False)\n",
    "    l_vecs, r_vecs, covals, l_v_bias, r_v_bias = [], [], [], [], []\n",
    "    for chosen in sample:\n",
    "        ind = tuple(coocs[chosen])\n",
    "        l_vecs.append(l_embed[ind[0]])\n",
    "        r_vecs.append(r_embed[ind[1]])\n",
    "        covals.append(comat[ind])\n",
    "        l_v_bias.append(l_biases[ind[0]])\n",
    "        r_v_bias.append(r_biases[ind[1]])\n",
    "    return l_vecs, r_vecs, covals, l_v_bias, r_v_bias"
   ]
  },
  {
   "cell_type": "code",
   "execution_count": 13,
   "metadata": {},
   "outputs": [
    {
     "name": "stdout",
     "output_type": "stream",
     "text": [
      "Average loss for epoch 1:  tensor(6.1142, dtype=torch.float64)\n",
      "Average loss for epoch 2:  tensor(5.9504, dtype=torch.float64)\n",
      "Average loss for epoch 3:  tensor(5.7445, dtype=torch.float64)\n",
      "Average loss for epoch 4:  tensor(5.6207, dtype=torch.float64)\n",
      "Average loss for epoch 5:  tensor(5.6549, dtype=torch.float64)\n",
      "Average loss for epoch 6:  tensor(5.3862, dtype=torch.float64)\n",
      "Average loss for epoch 7:  tensor(5.1282, dtype=torch.float64)\n",
      "Average loss for epoch 8:  tensor(4.5580, dtype=torch.float64)\n",
      "Average loss for epoch 9:  tensor(4.9661, dtype=torch.float64)\n",
      "Average loss for epoch 10:  tensor(4.9643, dtype=torch.float64)\n"
     ]
    }
   ],
   "source": [
    "# Train model\n",
    "for epoch in range(num_epochs):\n",
    "    num_batches = int(w_list_size/batch_size)\n",
    "    avg_loss = 0.0\n",
    "    for batch in range(num_batches):\n",
    "        optimizer.zero_grad()\n",
    "        l_vecs, r_vecs, covals, l_v_bias, r_v_bias = gen_batch()\n",
    "        loss = sum([torch.mul((torch.dot(l_vecs[i].view(-1), r_vecs[i].view(-1)) +\n",
    "                l_v_bias[i] + r_v_bias[i] - np.log(covals[i]))**2,\n",
    "                wf(covals[i])) for i in range(batch_size)])\n",
    "        avg_loss += loss.data[0]/num_batches\n",
    "        loss.backward()\n",
    "        optimizer.step()\n",
    "    print(\"Average loss for epoch \"+str(epoch+1)+\": \", avg_loss)"
   ]
  },
  {
   "cell_type": "code",
   "execution_count": 14,
   "metadata": {},
   "outputs": [],
   "source": [
    "# Visualize embeddings\n",
    "if embed_size == 2:\n",
    "    # Pick some random words\n",
    "    word_inds = np.random.choice(np.arange(len(vocab)), size=10, replace=False)\n",
    "    for word_ind in word_inds:\n",
    "        # Create embedding by summing left and right embeddings\n",
    "        w_embed = (l_embed[word_ind].data + r_embed[word_ind].data).numpy()\n",
    "        x, y = w_embed[0][0], w_embed[1][0]\n",
    "        plt.scatter(x, y)\n",
    "        plt.annotate(vocab[word_ind], xy=(x, y), xytext=(5, 2),\n",
    "            textcoords='offset points', ha='right', va='bottom')\n",
    "    plt.savefig(\"glove.png\")"
   ]
  },
  {
   "cell_type": "code",
   "execution_count": null,
   "metadata": {},
   "outputs": [],
   "source": []
  }
 ],
 "metadata": {
  "kernelspec": {
   "display_name": "Python 3",
   "language": "python",
   "name": "python3"
  },
  "language_info": {
   "codemirror_mode": {
    "name": "ipython",
    "version": 3
   },
   "file_extension": ".py",
   "mimetype": "text/x-python",
   "name": "python",
   "nbconvert_exporter": "python",
   "pygments_lexer": "ipython3",
   "version": "3.7.3"
  }
 },
 "nbformat": 4,
 "nbformat_minor": 2
}
